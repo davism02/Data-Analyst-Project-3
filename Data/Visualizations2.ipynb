{
 "cells": [
  {
   "cell_type": "code",
   "execution_count": null,
   "id": "1cd92d20",
   "metadata": {},
   "outputs": [],
   "source": [
    "pip install plotly.graph_objs"
   ]
  },
  {
   "cell_type": "code",
   "execution_count": null,
   "id": "0619299e",
   "metadata": {},
   "outputs": [],
   "source": [
    "pip install plotly.express "
   ]
  },
  {
   "cell_type": "code",
   "execution_count": null,
   "id": "d41d40a3",
   "metadata": {},
   "outputs": [],
   "source": [
    "pip install plotly.subplots"
   ]
  },
  {
   "cell_type": "code",
   "execution_count": null,
   "id": "a36b7a19",
   "metadata": {},
   "outputs": [],
   "source": [
    "pip install plotly.offline"
   ]
  },
  {
   "cell_type": "code",
   "execution_count": null,
   "id": "f1e960bc",
   "metadata": {},
   "outputs": [],
   "source": [
    "import numpy as np\n",
    "import pandas as pd\n",
    "import matplotlib.pyplot as plt\n",
    "import seaborn as sns\n",
    "import plotly.graph_objs as go\n",
    "import plotly.express as px\n",
    "from plotly.subplots import make_subplots \n",
    "from plotly.offline import init_notebook_mode, iplot"
   ]
  },
  {
   "cell_type": "code",
   "execution_count": null,
   "id": "27583ba3",
   "metadata": {},
   "outputs": [],
   "source": [
    "data_lyst = pd.read_csv(\"clean_data_analyst.csv\")\n",
    "data_lyst.head()"
   ]
  },
  {
   "cell_type": "code",
   "execution_count": null,
   "id": "4c79f818",
   "metadata": {},
   "outputs": [],
   "source": [
    "data_lyst_by_title = data_lyst[data_lyst['Title']=='Data Analyst']"
   ]
  },
  {
   "cell_type": "code",
   "execution_count": null,
   "id": "689e5665",
   "metadata": {},
   "outputs": [],
   "source": [
    "#sns.set(style =\"white\", palette = \"deep\", color_codes=True)\n",
    "#f, axes = plt.subplots(1,2, figsize=(15,8)\n",
    "#sns.despine(left=True)\n",
    "\n",
    "#sns.distplot(data_lyst_by_title['min'], color=\"b\")\n",
    "\n",
    "#sns.distplot(data_lyst_by_title['max'], color=\"r\")\n",
    "\n",
    "#plt.setp(axes, yticks=[])\n",
    "#plt.tight_layout()"
   ]
  },
  {
   "cell_type": "code",
   "execution_count": null,
   "id": "373591ca",
   "metadata": {},
   "outputs": [],
   "source": [
    "location_df =data_lyst[\"Location\"].value_counts()\n",
    "location_df.head"
   ]
  },
  {
   "cell_type": "code",
   "execution_count": null,
   "id": "ebfa4133",
   "metadata": {},
   "outputs": [],
   "source": [
    "location_df=pd.DataFrame[\"New York, NY\", \"Chicago, IL\", \"San Francisco, CA\", \"Austin, TX\", \"Los Angeles, CA\"]\n",
    "location_df.head"
   ]
  },
  {
   "cell_type": "code",
   "execution_count": null,
   "id": "568461f0",
   "metadata": {},
   "outputs": [],
   "source": [
    "df=data_lyst.groupby('Location')[['max','min']].mean().sort_values(['max','min'],ascending=False).head(20)"
   ]
  },
  {
   "cell_type": "code",
   "execution_count": null,
   "id": "a184558c",
   "metadata": {},
   "outputs": [],
   "source": [
    "fig = go.Figure()\n",
    "\n",
    "fig.add_trace(go.Bar(x=df.index,y=df['min'],name='Minimum Salary'))\n",
    "fig.add_trace(go.Bar(x=df.index,y=df['max'],name='Maximum Salary'))\n",
    "\n",
    "fig.update_layout(title='Top 20 cities with their minimum and maximum salaries',barmode='stack')\n",
    "\n",
    "fig.show()"
   ]
  },
  {
   "cell_type": "code",
   "execution_count": null,
   "id": "940cd49c",
   "metadata": {},
   "outputs": [],
   "source": []
  },
  {
   "cell_type": "code",
   "execution_count": null,
   "id": "96f155e8",
   "metadata": {},
   "outputs": [],
   "source": []
  }
 ],
 "metadata": {
  "kernelspec": {
   "display_name": "Python 3",
   "language": "python",
   "name": "python3"
  },
  "language_info": {
   "codemirror_mode": {
    "name": "ipython",
    "version": 3
   },
   "file_extension": ".py",
   "mimetype": "text/x-python",
   "name": "python",
   "nbconvert_exporter": "python",
   "pygments_lexer": "ipython3",
   "version": "3.8.8"
  }
 },
 "nbformat": 4,
 "nbformat_minor": 5
}
