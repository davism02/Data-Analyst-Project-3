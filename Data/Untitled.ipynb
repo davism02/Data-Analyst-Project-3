{
 "cells": [
  {
   "cell_type": "code",
   "execution_count": 4,
   "id": "5f6ba41f-b38f-4505-8865-8868354ae3f2",
   "metadata": {},
   "outputs": [],
   "source": [
    "import numpy as np\n",
    "import pandas as pd\n",
    "import matplotlib.pyplot as plt\n",
    "import seaborn as sns\n"
   ]
  },
  {
   "cell_type": "code",
   "execution_count": 5,
   "id": "40fe8d70-b9c4-4189-9f9b-87adec0b5424",
   "metadata": {},
   "outputs": [],
   "source": [
    "data=pd.read_csv('Data Analyst.csv')"
   ]
  },
  {
   "cell_type": "code",
   "execution_count": 6,
   "id": "581882f6-698c-48a2-923b-3b17c5bb5b34",
   "metadata": {},
   "outputs": [],
   "source": [
    "#remove the unnamed column\n",
    "data.drop(['Unnamed: 0'], axis=1,inplace=True)"
   ]
  },
  {
   "cell_type": "code",
   "execution_count": 7,
   "id": "636d5ee9-391b-4ace-b83d-c22dcf64cbe5",
   "metadata": {},
   "outputs": [
    {
     "name": "stdout",
     "output_type": "stream",
     "text": [
      "Your selected dataframe has 15 columns.\n",
      "There are 1 columns that have missing values.\n"
     ]
    },
    {
     "data": {
      "text/html": [
       "<div>\n",
       "<style scoped>\n",
       "    .dataframe tbody tr th:only-of-type {\n",
       "        vertical-align: middle;\n",
       "    }\n",
       "\n",
       "    .dataframe tbody tr th {\n",
       "        vertical-align: top;\n",
       "    }\n",
       "\n",
       "    .dataframe thead th {\n",
       "        text-align: right;\n",
       "    }\n",
       "</style>\n",
       "<table border=\"1\" class=\"dataframe\">\n",
       "  <thead>\n",
       "    <tr style=\"text-align: right;\">\n",
       "      <th></th>\n",
       "      <th>Missing Values</th>\n",
       "      <th>% of Total Values</th>\n",
       "    </tr>\n",
       "  </thead>\n",
       "  <tbody>\n",
       "    <tr>\n",
       "      <th>Company Name</th>\n",
       "      <td>1</td>\n",
       "      <td>0.0</td>\n",
       "    </tr>\n",
       "  </tbody>\n",
       "</table>\n",
       "</div>"
      ],
      "text/plain": [
       "              Missing Values  % of Total Values\n",
       "Company Name               1                0.0"
      ]
     },
     "execution_count": 7,
     "metadata": {},
     "output_type": "execute_result"
    }
   ],
   "source": [
    "#check for missing values\n",
    "def missing_values_table(df):\n",
    "        # Total missing values\n",
    "        mis_val = df.isnull().sum()\n",
    "        \n",
    "        # Percentage of missing values\n",
    "        mis_val_percent = 100 * df.isnull().sum() / len(df)\n",
    "        \n",
    "        # Make a table with the results\n",
    "        mis_val_table = pd.concat([mis_val, mis_val_percent], axis=1)\n",
    "        \n",
    "        # Rename the columns\n",
    "        mis_val_table_ren_columns = mis_val_table.rename(\n",
    "        columns = {0 : 'Missing Values', 1 : '% of Total Values'})\n",
    "        \n",
    "        # Sort the table by percentage of missing descending\n",
    "        mis_val_table_ren_columns = mis_val_table_ren_columns[\n",
    "            mis_val_table_ren_columns.iloc[:,1] != 0].sort_values(\n",
    "        '% of Total Values', ascending=False).round(1)\n",
    "        \n",
    "        # Print some summary information\n",
    "        print (\"Your selected dataframe has \" + str(df.shape[1]) + \" columns.\\n\"      \n",
    "            \"There are \" + str(mis_val_table_ren_columns.shape[0]) +\n",
    "              \" columns that have missing values.\")\n",
    "        \n",
    "        # Return the dataframe with missing information\n",
    "        return mis_val_table_ren_columns\n",
    "missing_values_table(data)"
   ]
  },
  {
   "cell_type": "code",
   "execution_count": 8,
   "id": "a56192b9-309d-4c73-8843-ce40ec828b71",
   "metadata": {},
   "outputs": [
    {
     "data": {
      "text/plain": [
       "-1      2173\n",
       "TRUE      80\n",
       "Name: Easy Apply, dtype: int64"
      ]
     },
     "execution_count": 8,
     "metadata": {},
     "output_type": "execute_result"
    }
   ],
   "source": [
    "data['Easy Apply'].value_counts()"
   ]
  },
  {
   "cell_type": "code",
   "execution_count": 9,
   "id": "613976ec-056a-4ad0-a54d-13353772cf27",
   "metadata": {},
   "outputs": [
    {
     "data": {
      "text/plain": [
       "-1                                                      1732\n",
       "Adecco, Manpower                                          14\n",
       "Robert Half, Insight Global                               14\n",
       "Artech Information Systems, Mindlance, Tech Mahindra      10\n",
       "TEKsystems, Insight Global, Accenture                     10\n",
       "                                                        ... \n",
       "KPMG, Accenture, Deloitte                                  1\n",
       "eHealth, Anthem                                            1\n",
       "Accenture, Deloitte, IBM                                   1\n",
       "TEKsystems, CGI, SDLC Partners                             1\n",
       "Blizzard Entertainment, Riot Games, Electronic Arts        1\n",
       "Name: Competitors, Length: 291, dtype: int64"
      ]
     },
     "execution_count": 9,
     "metadata": {},
     "output_type": "execute_result"
    }
   ],
   "source": [
    "data['Competitors'].value_counts()"
   ]
  },
  {
   "cell_type": "code",
   "execution_count": 10,
   "id": "be7bd170-74eb-4849-bdba-277943959294",
   "metadata": {},
   "outputs": [
    {
     "data": {
      "text/plain": [
       "-1.0    272\n",
       " 3.9    140\n",
       " 3.6    135\n",
       " 3.7    132\n",
       " 5.0    131\n",
       "Name: Rating, dtype: int64"
      ]
     },
     "execution_count": 10,
     "metadata": {},
     "output_type": "execute_result"
    }
   ],
   "source": [
    "data['Rating'].value_counts()[:5]"
   ]
  },
  {
   "cell_type": "code",
   "execution_count": 11,
   "id": "6f2c5679-340d-443c-b31d-736d7efbcb77",
   "metadata": {},
   "outputs": [],
   "source": [
    "#Replace -1 or -1.0 or '-1' to NaN\n",
    "data=data.replace(-1,np.nan)\n",
    "data=data.replace(-1.0,np.nan)\n",
    "data=data.replace('-1',np.nan)"
   ]
  },
  {
   "cell_type": "code",
   "execution_count": 12,
   "id": "03f252ad-0b50-4844-8936-5926f91c3ab3",
   "metadata": {},
   "outputs": [
    {
     "name": "stdout",
     "output_type": "stream",
     "text": [
      "Your selected dataframe has 15 columns.\n",
      "There are 12 columns that have missing values.\n"
     ]
    },
    {
     "data": {
      "text/html": [
       "<div>\n",
       "<style scoped>\n",
       "    .dataframe tbody tr th:only-of-type {\n",
       "        vertical-align: middle;\n",
       "    }\n",
       "\n",
       "    .dataframe tbody tr th {\n",
       "        vertical-align: top;\n",
       "    }\n",
       "\n",
       "    .dataframe thead th {\n",
       "        text-align: right;\n",
       "    }\n",
       "</style>\n",
       "<table border=\"1\" class=\"dataframe\">\n",
       "  <thead>\n",
       "    <tr style=\"text-align: right;\">\n",
       "      <th></th>\n",
       "      <th>Missing Values</th>\n",
       "      <th>% of Total Values</th>\n",
       "    </tr>\n",
       "  </thead>\n",
       "  <tbody>\n",
       "    <tr>\n",
       "      <th>Easy Apply</th>\n",
       "      <td>2173</td>\n",
       "      <td>96.4</td>\n",
       "    </tr>\n",
       "    <tr>\n",
       "      <th>Competitors</th>\n",
       "      <td>1732</td>\n",
       "      <td>76.9</td>\n",
       "    </tr>\n",
       "    <tr>\n",
       "      <th>Founded</th>\n",
       "      <td>660</td>\n",
       "      <td>29.3</td>\n",
       "    </tr>\n",
       "    <tr>\n",
       "      <th>Industry</th>\n",
       "      <td>353</td>\n",
       "      <td>15.7</td>\n",
       "    </tr>\n",
       "    <tr>\n",
       "      <th>Sector</th>\n",
       "      <td>353</td>\n",
       "      <td>15.7</td>\n",
       "    </tr>\n",
       "    <tr>\n",
       "      <th>Rating</th>\n",
       "      <td>272</td>\n",
       "      <td>12.1</td>\n",
       "    </tr>\n",
       "    <tr>\n",
       "      <th>Headquarters</th>\n",
       "      <td>172</td>\n",
       "      <td>7.6</td>\n",
       "    </tr>\n",
       "    <tr>\n",
       "      <th>Size</th>\n",
       "      <td>163</td>\n",
       "      <td>7.2</td>\n",
       "    </tr>\n",
       "    <tr>\n",
       "      <th>Type of ownership</th>\n",
       "      <td>163</td>\n",
       "      <td>7.2</td>\n",
       "    </tr>\n",
       "    <tr>\n",
       "      <th>Revenue</th>\n",
       "      <td>163</td>\n",
       "      <td>7.2</td>\n",
       "    </tr>\n",
       "    <tr>\n",
       "      <th>Salary Estimate</th>\n",
       "      <td>1</td>\n",
       "      <td>0.0</td>\n",
       "    </tr>\n",
       "    <tr>\n",
       "      <th>Company Name</th>\n",
       "      <td>1</td>\n",
       "      <td>0.0</td>\n",
       "    </tr>\n",
       "  </tbody>\n",
       "</table>\n",
       "</div>"
      ],
      "text/plain": [
       "                   Missing Values  % of Total Values\n",
       "Easy Apply                   2173               96.4\n",
       "Competitors                  1732               76.9\n",
       "Founded                       660               29.3\n",
       "Industry                      353               15.7\n",
       "Sector                        353               15.7\n",
       "Rating                        272               12.1\n",
       "Headquarters                  172                7.6\n",
       "Size                          163                7.2\n",
       "Type of ownership             163                7.2\n",
       "Revenue                       163                7.2\n",
       "Salary Estimate                 1                0.0\n",
       "Company Name                    1                0.0"
      ]
     },
     "execution_count": 12,
     "metadata": {},
     "output_type": "execute_result"
    }
   ],
   "source": [
    "missing_values_table(data)"
   ]
  },
  {
   "cell_type": "code",
   "execution_count": 13,
   "id": "922c6fa5-7874-4072-8111-a9a8cf9a075e",
   "metadata": {},
   "outputs": [],
   "source": [
    "#Now you can see there are lots of missing values in the dataset. 'Easy Apply' and 'Competitors' has maximum number of missing values (> 50%)\n",
    "\n",
    "#Most companies has null values in easy apply because they are not hiring ."
   ]
  },
  {
   "cell_type": "code",
   "execution_count": 14,
   "id": "794fae76-af36-4fce-95ce-8c2618c2a8af",
   "metadata": {},
   "outputs": [
    {
     "name": "stderr",
     "output_type": "stream",
     "text": [
      "<ipython-input-14-d79831fb4d01>:1: FutureWarning: Columnar iteration over characters will be deprecated in future releases.\n",
      "  data['Company Name'],_=data['Company Name'].str.split('\\n', 1).str\n"
     ]
    }
   ],
   "source": [
    "data['Company Name'],_=data['Company Name'].str.split('\\n', 1).str"
   ]
  },
  {
   "cell_type": "code",
   "execution_count": 15,
   "id": "41204bdc-2734-40ce-88c0-b91af197bd71",
   "metadata": {},
   "outputs": [
    {
     "name": "stderr",
     "output_type": "stream",
     "text": [
      "<ipython-input-15-2485459de680>:1: FutureWarning: Columnar iteration over characters will be deprecated in future releases.\n",
      "  data['Job Title'],data['Department']=data['Job Title'].str.split(',', 1).str\n"
     ]
    }
   ],
   "source": [
    "data['Job Title'],data['Department']=data['Job Title'].str.split(',', 1).str"
   ]
  },
  {
   "cell_type": "code",
   "execution_count": 16,
   "id": "f8011b19-4861-4bbf-8e8b-e59d50b9d60c",
   "metadata": {},
   "outputs": [
    {
     "name": "stderr",
     "output_type": "stream",
     "text": [
      "<ipython-input-16-db56586e1189>:1: FutureWarning: Columnar iteration over characters will be deprecated in future releases.\n",
      "  data['Salary Estimate'],_=data['Salary Estimate'].str.split('(', 1).str\n"
     ]
    }
   ],
   "source": [
    "data['Salary Estimate'],_=data['Salary Estimate'].str.split('(', 1).str"
   ]
  },
  {
   "cell_type": "code",
   "execution_count": 17,
   "id": "98ff1bcb-9631-438b-bd11-eea97c086934",
   "metadata": {},
   "outputs": [
    {
     "name": "stderr",
     "output_type": "stream",
     "text": [
      "<ipython-input-17-459ba913a5e5>:1: FutureWarning: Columnar iteration over characters will be deprecated in future releases.\n",
      "  data['Min_Salary'],data['Max_Salary']=data['Salary Estimate'].str.split('-').str\n"
     ]
    }
   ],
   "source": [
    "data['Min_Salary'],data['Max_Salary']=data['Salary Estimate'].str.split('-').str\n",
    "data['Min_Salary']=data['Min_Salary'].str.strip(' ').str.lstrip('$').str.rstrip('K').fillna(0).astype('int')\n",
    "data['Max_Salary']=data['Max_Salary'].str.strip(' ').str.lstrip('$').str.rstrip('K').fillna(0).astype('int')"
   ]
  },
  {
   "cell_type": "code",
   "execution_count": 18,
   "id": "b8d05e1d-c09d-4bfa-9a25-4a741c7c7094",
   "metadata": {},
   "outputs": [],
   "source": [
    "data.drop(['Salary Estimate'],axis=1,inplace=True)"
   ]
  },
  {
   "cell_type": "code",
   "execution_count": 19,
   "id": "5ad73ca5-d8a9-4ca9-9677-6cf90b895f43",
   "metadata": {},
   "outputs": [
    {
     "data": {
      "text/html": [
       "<div>\n",
       "<style scoped>\n",
       "    .dataframe tbody tr th:only-of-type {\n",
       "        vertical-align: middle;\n",
       "    }\n",
       "\n",
       "    .dataframe tbody tr th {\n",
       "        vertical-align: top;\n",
       "    }\n",
       "\n",
       "    .dataframe thead th {\n",
       "        text-align: right;\n",
       "    }\n",
       "</style>\n",
       "<table border=\"1\" class=\"dataframe\">\n",
       "  <thead>\n",
       "    <tr style=\"text-align: right;\">\n",
       "      <th></th>\n",
       "      <th>Job Title</th>\n",
       "      <th>Job Description</th>\n",
       "      <th>Rating</th>\n",
       "      <th>Company Name</th>\n",
       "      <th>Location</th>\n",
       "      <th>Headquarters</th>\n",
       "      <th>Size</th>\n",
       "      <th>Founded</th>\n",
       "      <th>Type of ownership</th>\n",
       "      <th>Industry</th>\n",
       "      <th>Sector</th>\n",
       "      <th>Revenue</th>\n",
       "      <th>Competitors</th>\n",
       "      <th>Easy Apply</th>\n",
       "      <th>Department</th>\n",
       "      <th>Min_Salary</th>\n",
       "      <th>Max_Salary</th>\n",
       "    </tr>\n",
       "  </thead>\n",
       "  <tbody>\n",
       "    <tr>\n",
       "      <th>0</th>\n",
       "      <td>Data Analyst</td>\n",
       "      <td>Are you eager to roll up your sleeves and harn...</td>\n",
       "      <td>3.2</td>\n",
       "      <td>Vera Institute of Justice</td>\n",
       "      <td>New York, NY</td>\n",
       "      <td>New York, NY</td>\n",
       "      <td>201 to 500 employees</td>\n",
       "      <td>1961.0</td>\n",
       "      <td>Nonprofit Organization</td>\n",
       "      <td>Social Assistance</td>\n",
       "      <td>Non-Profit</td>\n",
       "      <td>$100 to $500 million (USD)</td>\n",
       "      <td>NaN</td>\n",
       "      <td>TRUE</td>\n",
       "      <td>Center on Immigration and Justice (CIJ)</td>\n",
       "      <td>37</td>\n",
       "      <td>66</td>\n",
       "    </tr>\n",
       "    <tr>\n",
       "      <th>1</th>\n",
       "      <td>Quality Data Analyst</td>\n",
       "      <td>Overview\\n\\nProvides analytical and technical ...</td>\n",
       "      <td>3.8</td>\n",
       "      <td>Visiting Nurse Service of New York</td>\n",
       "      <td>New York, NY</td>\n",
       "      <td>New York, NY</td>\n",
       "      <td>10000+ employees</td>\n",
       "      <td>1893.0</td>\n",
       "      <td>Nonprofit Organization</td>\n",
       "      <td>Health Care Services &amp; Hospitals</td>\n",
       "      <td>Health Care</td>\n",
       "      <td>$2 to $5 billion (USD)</td>\n",
       "      <td>NaN</td>\n",
       "      <td>NaN</td>\n",
       "      <td>NaN</td>\n",
       "      <td>37</td>\n",
       "      <td>66</td>\n",
       "    </tr>\n",
       "    <tr>\n",
       "      <th>2</th>\n",
       "      <td>Senior Data Analyst</td>\n",
       "      <td>We’re looking for a Senior Data Analyst who ha...</td>\n",
       "      <td>3.4</td>\n",
       "      <td>Squarespace</td>\n",
       "      <td>New York, NY</td>\n",
       "      <td>New York, NY</td>\n",
       "      <td>1001 to 5000 employees</td>\n",
       "      <td>2003.0</td>\n",
       "      <td>Company - Private</td>\n",
       "      <td>Internet</td>\n",
       "      <td>Information Technology</td>\n",
       "      <td>Unknown / Non-Applicable</td>\n",
       "      <td>GoDaddy</td>\n",
       "      <td>NaN</td>\n",
       "      <td>Insights &amp; Analytics Team [Customer Operations]</td>\n",
       "      <td>37</td>\n",
       "      <td>66</td>\n",
       "    </tr>\n",
       "    <tr>\n",
       "      <th>3</th>\n",
       "      <td>Data Analyst</td>\n",
       "      <td>Requisition NumberRR-0001939\\nRemote:Yes\\nWe c...</td>\n",
       "      <td>4.1</td>\n",
       "      <td>Celerity</td>\n",
       "      <td>New York, NY</td>\n",
       "      <td>McLean, VA</td>\n",
       "      <td>201 to 500 employees</td>\n",
       "      <td>2002.0</td>\n",
       "      <td>Subsidiary or Business Segment</td>\n",
       "      <td>IT Services</td>\n",
       "      <td>Information Technology</td>\n",
       "      <td>$50 to $100 million (USD)</td>\n",
       "      <td>NaN</td>\n",
       "      <td>NaN</td>\n",
       "      <td>NaN</td>\n",
       "      <td>37</td>\n",
       "      <td>66</td>\n",
       "    </tr>\n",
       "    <tr>\n",
       "      <th>4</th>\n",
       "      <td>Reporting Data Analyst</td>\n",
       "      <td>ABOUT FANDUEL GROUP\\n\\nFanDuel Group is a worl...</td>\n",
       "      <td>3.9</td>\n",
       "      <td>FanDuel</td>\n",
       "      <td>New York, NY</td>\n",
       "      <td>New York, NY</td>\n",
       "      <td>501 to 1000 employees</td>\n",
       "      <td>2009.0</td>\n",
       "      <td>Company - Private</td>\n",
       "      <td>Sports &amp; Recreation</td>\n",
       "      <td>Arts, Entertainment &amp; Recreation</td>\n",
       "      <td>$100 to $500 million (USD)</td>\n",
       "      <td>DraftKings</td>\n",
       "      <td>TRUE</td>\n",
       "      <td>NaN</td>\n",
       "      <td>37</td>\n",
       "      <td>66</td>\n",
       "    </tr>\n",
       "  </tbody>\n",
       "</table>\n",
       "</div>"
      ],
      "text/plain": [
       "                Job Title                                    Job Description  \\\n",
       "0            Data Analyst  Are you eager to roll up your sleeves and harn...   \n",
       "1    Quality Data Analyst  Overview\\n\\nProvides analytical and technical ...   \n",
       "2     Senior Data Analyst  We’re looking for a Senior Data Analyst who ha...   \n",
       "3            Data Analyst  Requisition NumberRR-0001939\\nRemote:Yes\\nWe c...   \n",
       "4  Reporting Data Analyst  ABOUT FANDUEL GROUP\\n\\nFanDuel Group is a worl...   \n",
       "\n",
       "   Rating                        Company Name      Location  Headquarters  \\\n",
       "0     3.2           Vera Institute of Justice  New York, NY  New York, NY   \n",
       "1     3.8  Visiting Nurse Service of New York  New York, NY  New York, NY   \n",
       "2     3.4                         Squarespace  New York, NY  New York, NY   \n",
       "3     4.1                            Celerity  New York, NY    McLean, VA   \n",
       "4     3.9                             FanDuel  New York, NY  New York, NY   \n",
       "\n",
       "                     Size  Founded               Type of ownership  \\\n",
       "0    201 to 500 employees   1961.0          Nonprofit Organization   \n",
       "1        10000+ employees   1893.0          Nonprofit Organization   \n",
       "2  1001 to 5000 employees   2003.0               Company - Private   \n",
       "3    201 to 500 employees   2002.0  Subsidiary or Business Segment   \n",
       "4   501 to 1000 employees   2009.0               Company - Private   \n",
       "\n",
       "                           Industry                            Sector  \\\n",
       "0                 Social Assistance                        Non-Profit   \n",
       "1  Health Care Services & Hospitals                       Health Care   \n",
       "2                          Internet            Information Technology   \n",
       "3                       IT Services            Information Technology   \n",
       "4               Sports & Recreation  Arts, Entertainment & Recreation   \n",
       "\n",
       "                      Revenue Competitors Easy Apply  \\\n",
       "0  $100 to $500 million (USD)         NaN       TRUE   \n",
       "1      $2 to $5 billion (USD)         NaN        NaN   \n",
       "2    Unknown / Non-Applicable     GoDaddy        NaN   \n",
       "3   $50 to $100 million (USD)         NaN        NaN   \n",
       "4  $100 to $500 million (USD)  DraftKings       TRUE   \n",
       "\n",
       "                                         Department  Min_Salary  Max_Salary  \n",
       "0           Center on Immigration and Justice (CIJ)          37          66  \n",
       "1                                               NaN          37          66  \n",
       "2   Insights & Analytics Team [Customer Operations]          37          66  \n",
       "3                                               NaN          37          66  \n",
       "4                                               NaN          37          66  "
      ]
     },
     "execution_count": 19,
     "metadata": {},
     "output_type": "execute_result"
    }
   ],
   "source": [
    "data.head()"
   ]
  },
  {
   "cell_type": "code",
   "execution_count": null,
   "id": "ab29647a-8dce-447d-8201-525bd1dbf2dc",
   "metadata": {},
   "outputs": [],
   "source": []
  },
  {
   "cell_type": "code",
   "execution_count": null,
   "id": "4d5dcf38-57ae-4c89-8002-6f5d61eef038",
   "metadata": {},
   "outputs": [],
   "source": []
  }
 ],
 "metadata": {
  "kernelspec": {
   "display_name": "Python 3",
   "language": "python",
   "name": "python3"
  },
  "language_info": {
   "codemirror_mode": {
    "name": "ipython",
    "version": 3
   },
   "file_extension": ".py",
   "mimetype": "text/x-python",
   "name": "python",
   "nbconvert_exporter": "python",
   "pygments_lexer": "ipython3",
   "version": "3.8.8"
  }
 },
 "nbformat": 4,
 "nbformat_minor": 5
}
