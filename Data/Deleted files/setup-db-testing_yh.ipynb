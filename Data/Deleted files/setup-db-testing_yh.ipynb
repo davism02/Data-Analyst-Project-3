{
 "cells": [
  {
   "cell_type": "code",
   "execution_count": 1,
   "id": "7bf55d27",
   "metadata": {},
   "outputs": [],
   "source": [
    "import sqlalchemy\r\n",
    "from sqlalchemy.ext.automap import automap_base\r\n",
    "from sqlalchemy.orm import Session\r\n",
    "from sqlalchemy import create_engine\r\n",
    "from sqlalchemy import func\r\n",
    "import pandas as pd\r\n",
    "import json\r\n",
    "import decimal"
   ]
  },
  {
   "cell_type": "code",
   "execution_count": null,
   "id": "b148f0a9",
   "metadata": {},
   "outputs": [],
   "source": []
  },
  {
   "cell_type": "code",
   "execution_count": 2,
   "id": "e75ab97b",
   "metadata": {},
   "outputs": [
    {
     "name": "stderr",
     "output_type": "stream",
     "text": [
      "<ipython-input-2-ba790d532365>:3: SADeprecationWarning: The Engine.table_names() method is deprecated and will be removed in a future release.  Please refer to Inspector.get_table_names(). (deprecated since: 1.4)\n",
      "  engine.table_names()\n"
     ]
    },
    {
     "data": {
      "text/plain": [
       "['data_analyst_testing', 'data_analyst']"
      ]
     },
     "execution_count": 2,
     "metadata": {},
     "output_type": "execute_result"
    }
   ],
   "source": [
    "connection_string = \"postgres:postgres@localhost:5432/data_analyst_db\"\r\n",
    "engine = create_engine(f'postgresql://{connection_string}')\r\n",
    "engine.table_names()\r\n",
    "Base=automap_base()\r\n",
    "Base.prepare(engine,reflect=True)\r\n",
    "Base.classes.keys()"
   ]
  },
  {
   "cell_type": "code",
   "execution_count": 3,
   "id": "f06e5761",
   "metadata": {},
   "outputs": [],
   "source": [
    "table=Base.classes.data_analyst_testing\r\n",
    "session=Session(engine)"
   ]
  },
  {
   "cell_type": "code",
   "execution_count": 4,
   "id": "73b35b58",
   "metadata": {},
   "outputs": [
    {
     "data": {
      "text/plain": [
       "[]"
      ]
     },
     "execution_count": 4,
     "metadata": {},
     "output_type": "execute_result"
    }
   ],
   "source": [
    "session.query(table.ID,table.Title,table.Salary,table.Rating,table.Company,table.Headquarters,table.Size,table.ownership,table.Industry,table.Sector,table.Revenue,table.min,table.max).all()"
   ]
  },
  {
   "cell_type": "code",
   "execution_count": null,
   "id": "c83a1d2e",
   "metadata": {},
   "outputs": [],
   "source": []
  },
  {
   "cell_type": "code",
   "execution_count": 6,
   "id": "01dcb59b",
   "metadata": {},
   "outputs": [
    {
     "ename": "NameError",
     "evalue": "name 'rows' is not defined",
     "output_type": "error",
     "traceback": [
      "\u001b[1;31m---------------------------------------------------------------------------\u001b[0m",
      "\u001b[1;31mNameError\u001b[0m                                 Traceback (most recent call last)",
      "\u001b[1;32m<ipython-input-6-8f81cb51ea1b>\u001b[0m in \u001b[0;36m<module>\u001b[1;34m\u001b[0m\n\u001b[0;32m      1\u001b[0m \u001b[0mdata_list\u001b[0m\u001b[1;33m=\u001b[0m\u001b[1;33m[\u001b[0m\u001b[1;33m]\u001b[0m\u001b[1;33m\u001b[0m\u001b[1;33m\u001b[0m\u001b[0m\n\u001b[1;32m----> 2\u001b[1;33m \u001b[1;32mfor\u001b[0m \u001b[0mrow\u001b[0m \u001b[1;32min\u001b[0m \u001b[0mrows\u001b[0m\u001b[1;33m:\u001b[0m\u001b[1;33m\u001b[0m\u001b[1;33m\u001b[0m\u001b[0m\n\u001b[0m\u001b[0;32m      3\u001b[0m     \u001b[0mdata_list\u001b[0m\u001b[1;33m.\u001b[0m\u001b[0mappend\u001b[0m\u001b[1;33m(\u001b[0m\u001b[0mlist\u001b[0m\u001b[1;33m(\u001b[0m\u001b[0mrow\u001b[0m\u001b[1;33m)\u001b[0m\u001b[1;33m)\u001b[0m\u001b[1;33m\u001b[0m\u001b[1;33m\u001b[0m\u001b[0m\n",
      "\u001b[1;31mNameError\u001b[0m: name 'rows' is not defined"
     ]
    }
   ],
   "source": [
    "data_list=[]\n",
    "for row in rows:\n",
    "    data_list.append(list(row))"
   ]
  },
  {
   "cell_type": "code",
   "execution_count": null,
   "id": "466845f4",
   "metadata": {},
   "outputs": [],
   "source": [
    "class Encoder(json.JSONEncoder):\n",
    "    def default(self, obj):\n",
    "        if isinstance(obj, decimal.Decimal): return float(obj)\n",
    "\n",
    "json_file=json.dumps(data_list , cls = Encoder)"
   ]
  },
  {
   "cell_type": "code",
   "execution_count": null,
   "id": "cc8a144b",
   "metadata": {},
   "outputs": [],
   "source": []
  },
  {
   "cell_type": "code",
   "execution_count": null,
   "id": "52a2800a",
   "metadata": {},
   "outputs": [],
   "source": []
  },
  {
   "cell_type": "code",
   "execution_count": null,
   "id": "e96cbbff",
   "metadata": {},
   "outputs": [],
   "source": []
  },
  {
   "cell_type": "code",
   "execution_count": null,
   "id": "523a4bff",
   "metadata": {},
   "outputs": [],
   "source": []
  },
  {
   "cell_type": "code",
   "execution_count": null,
   "id": "cb8c8f9f",
   "metadata": {},
   "outputs": [],
   "source": []
  },
  {
   "cell_type": "code",
   "execution_count": null,
   "id": "6408f301",
   "metadata": {},
   "outputs": [],
   "source": [
    "table=Base.classes.data_analyst"
   ]
  },
  {
   "cell_type": "code",
   "execution_count": null,
   "id": "3303708d",
   "metadata": {},
   "outputs": [],
   "source": [
    "session=Session(engine)"
   ]
  },
  {
   "cell_type": "code",
   "execution_count": null,
   "id": "9774d482",
   "metadata": {},
   "outputs": [],
   "source": [
    "min_by_location=session.query(table.Location,func.sum(table.min)).group_by(table.Location).all()"
   ]
  },
  {
   "cell_type": "code",
   "execution_count": null,
   "id": "a3abf51e",
   "metadata": {},
   "outputs": [],
   "source": [
    "min_by_location"
   ]
  },
  {
   "cell_type": "code",
   "execution_count": null,
   "id": "4c0f42cf",
   "metadata": {},
   "outputs": [],
   "source": [
    "result = []\n",
    "for i in min_by_location:\n",
    "    min_by_location_dict = {}\n",
    "    min_by_location_dict[\"city-state\"] = i[0]\n",
    "    min_by_location_dict[\"The lowest min\"] = i[1]\n",
    "    result.append(min_by_location)\n",
    "\n",
    "return jsonify(result)"
   ]
  },
  {
   "cell_type": "code",
   "execution_count": null,
   "id": "43a15518",
   "metadata": {},
   "outputs": [],
   "source": []
  },
  {
   "cell_type": "code",
   "execution_count": null,
   "id": "b47cd4f4",
   "metadata": {},
   "outputs": [],
   "source": []
  },
  {
   "cell_type": "code",
   "execution_count": null,
   "id": "04347018",
   "metadata": {},
   "outputs": [],
   "source": []
  },
  {
   "cell_type": "code",
   "execution_count": null,
   "id": "e21aeac3",
   "metadata": {},
   "outputs": [],
   "source": []
  },
  {
   "cell_type": "code",
   "execution_count": null,
   "id": "cd3f9ffb",
   "metadata": {},
   "outputs": [],
   "source": []
  },
  {
   "cell_type": "code",
   "execution_count": null,
   "id": "adc2adc8",
   "metadata": {},
   "outputs": [],
   "source": []
  },
  {
   "cell_type": "code",
   "execution_count": null,
   "id": "79806ccc",
   "metadata": {},
   "outputs": [],
   "source": []
  },
  {
   "cell_type": "code",
   "execution_count": null,
   "id": "e1ba3071",
   "metadata": {},
   "outputs": [],
   "source": []
  },
  {
   "cell_type": "code",
   "execution_count": null,
   "id": "711a5198",
   "metadata": {},
   "outputs": [],
   "source": []
  },
  {
   "cell_type": "code",
   "execution_count": null,
   "id": "6f7a9333",
   "metadata": {},
   "outputs": [],
   "source": [
    "# #Extract CSV into DataFrame\n",
    "# data_analyst_df = pd.read_csv(\"../data/clean_data_analyst.csv\")\n",
    "# data_analyst_df.iloc[0:]"
   ]
  },
  {
   "cell_type": "code",
   "execution_count": null,
   "id": "2b79167a",
   "metadata": {},
   "outputs": [],
   "source": [
    "# #Create Database connection\n",
    "# connection_string = \"postgres:Jpm!1990@localhost:5432/da_job\"\n",
    "# engine = create_engine(f'postgresql://{connection_string}')"
   ]
  },
  {
   "cell_type": "code",
   "execution_count": null,
   "id": "219cd392",
   "metadata": {},
   "outputs": [],
   "source": [
    "# engine.table_names()\n"
   ]
  },
  {
   "cell_type": "code",
   "execution_count": null,
   "id": "f2f95994",
   "metadata": {},
   "outputs": [],
   "source": [
    "# Base=automap_base()\n",
    "# Base.prepare(engine,reflect=True)\n",
    "# Base.classes.keys()"
   ]
  },
  {
   "cell_type": "code",
   "execution_count": null,
   "id": "0a4d0d1e",
   "metadata": {},
   "outputs": [],
   "source": [
    "# job=Base.classes.test_limited_columns"
   ]
  },
  {
   "cell_type": "code",
   "execution_count": null,
   "id": "d51c0ce9",
   "metadata": {},
   "outputs": [],
   "source": [
    "# session=Session(engine)"
   ]
  },
  {
   "cell_type": "code",
   "execution_count": null,
   "id": "3d92bd02",
   "metadata": {},
   "outputs": [],
   "source": [
    "# session.query(job.id).all()"
   ]
  },
  {
   "cell_type": "code",
   "execution_count": null,
   "id": "9c1271bc",
   "metadata": {},
   "outputs": [],
   "source": []
  },
  {
   "cell_type": "code",
   "execution_count": null,
   "id": "dafbb1b6",
   "metadata": {},
   "outputs": [],
   "source": []
  },
  {
   "cell_type": "code",
   "execution_count": null,
   "id": "a07038b2",
   "metadata": {},
   "outputs": [],
   "source": []
  },
  {
   "cell_type": "code",
   "execution_count": null,
   "id": "abbea8c5",
   "metadata": {},
   "outputs": [],
   "source": []
  },
  {
   "cell_type": "code",
   "execution_count": null,
   "id": "43b06d74",
   "metadata": {},
   "outputs": [],
   "source": [
    "# #Use pandas to Load  csv converted DataFrames into database\n",
    "# data_analyst_df.to_json('data_analyst_json', con=engine, if_exists='append', index=False)"
   ]
  },
  {
   "cell_type": "code",
   "execution_count": null,
   "id": "fb20af7c",
   "metadata": {},
   "outputs": [],
   "source": [
    "# #confirm data has been added by quering the table\n",
    "# pd.read_sql_query('select * from data_analyst', con=engine).head()"
   ]
  },
  {
   "cell_type": "code",
   "execution_count": null,
   "id": "92a95b33",
   "metadata": {},
   "outputs": [],
   "source": [
    "# data_analyst_df.to_json(\"jsonfile.json\",orient='records')"
   ]
  },
  {
   "cell_type": "code",
   "execution_count": null,
   "id": "c79ec0fe",
   "metadata": {},
   "outputs": [],
   "source": []
  },
  {
   "cell_type": "code",
   "execution_count": null,
   "id": "7145c32e",
   "metadata": {},
   "outputs": [],
   "source": []
  }
 ],
 "metadata": {
  "kernelspec": {
   "display_name": "Python 3",
   "language": "python",
   "name": "python3"
  },
  "language_info": {
   "codemirror_mode": {
    "name": "ipython",
    "version": 3
   },
   "file_extension": ".py",
   "mimetype": "text/x-python",
   "name": "python",
   "nbconvert_exporter": "python",
   "pygments_lexer": "ipython3",
   "version": "3.8.8"
  }
 },
 "nbformat": 4,
 "nbformat_minor": 5
}
